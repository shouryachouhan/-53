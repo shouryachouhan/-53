{
  "nbformat": 4,
  "nbformat_minor": 0,
  "metadata": {
    "colab": {
      "provenance": [],
      "authorship_tag": "ABX9TyPPxb0wi5Ow4yCBjahX0lvo",
      "include_colab_link": true
    },
    "kernelspec": {
      "name": "python3",
      "display_name": "Python 3"
    },
    "language_info": {
      "name": "python"
    }
  },
  "cells": [
    {
      "cell_type": "markdown",
      "metadata": {
        "id": "view-in-github",
        "colab_type": "text"
      },
      "source": [
        "<a href=\"https://colab.research.google.com/github/shouryachouhan/-53/blob/main/Untitled3.ipynb\" target=\"_parent\"><img src=\"https://colab.research.google.com/assets/colab-badge.svg\" alt=\"Open In Colab\"/></a>"
      ]
    },
    {
      "cell_type": "code",
      "execution_count": 1,
      "metadata": {
        "colab": {
          "base_uri": "https://localhost:8080/"
        },
        "id": "3CWFALsoZKt0",
        "outputId": "948a3638-f2eb-4525-eab8-6a4d41ce0bd1"
      },
      "outputs": [
        {
          "output_type": "stream",
          "name": "stdout",
          "text": [
            "Enter your name :  shourya\n",
            "s * * * * * * \n",
            "* h * * * * * \n",
            "* * o * * * * \n",
            "* * * u * * * \n",
            "* * * * r * * \n",
            "* * * * * y * \n",
            "* * * * * * a \n"
          ]
        }
      ],
      "source": [
        "name=(input(\"Enter your name :  \"))\n",
        "iteration = len(name)\n",
        "for i in range(0,iteration):\n",
        "    for j in range(0,iteration):\n",
        "      if(i==j):\n",
        "        print(name[j],sep=\" \",end=\" \")\n",
        "      else:\n",
        "        print(\"*\",sep=\" \",end=\" \")\n",
        "    print()     "
      ]
    }
  ]
}